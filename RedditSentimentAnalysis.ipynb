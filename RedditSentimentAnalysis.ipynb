{
 "cells": [
  {
   "cell_type": "code",
   "execution_count": 2,
   "id": "adbc775e-0bb6-487c-9753-18b2009888e8",
   "metadata": {
    "tags": []
   },
   "outputs": [],
   "source": [
    "import nltk\n",
    "from nltk.sentiment import SentimentIntensityAnalyzer as SIA\n",
    "import pandas as pd\n",
    "import praw"
   ]
  },
  {
   "cell_type": "code",
   "execution_count": 3,
   "id": "185305f2-fda3-4536-993e-3b8318bc046a",
   "metadata": {},
   "outputs": [
    {
     "name": "stderr",
     "output_type": "stream",
     "text": [
      "[nltk_data] Downloading package vader_lexicon to\n",
      "[nltk_data]     C:\\Users\\Adria\\AppData\\Roaming\\nltk_data...\n",
      "[nltk_data]   Package vader_lexicon is already up-to-date!\n"
     ]
    },
    {
     "data": {
      "text/plain": [
       "True"
      ]
     },
     "execution_count": 3,
     "metadata": {},
     "output_type": "execute_result"
    }
   ],
   "source": [
    "sia = SIA()\n",
    "nltk.download('vader_lexicon')"
   ]
  },
  {
   "cell_type": "markdown",
   "id": "acb31f07",
   "metadata": {},
   "source": [
    "Get Headlines From Reddit"
   ]
  },
  {
   "cell_type": "code",
   "execution_count": 9,
   "id": "bb289c9e-1c8b-46be-8e1f-3a05a7faaa3b",
   "metadata": {
    "tags": []
   },
   "outputs": [
    {
     "name": "stdout",
     "output_type": "stream",
     "text": [
      "1687\n"
     ]
    }
   ],
   "source": [
    "user_agent = \"Scraper\"\n",
    "reddit = praw.Reddit(\n",
    "    client_id = \"aKfBu6Agrx3kW_ElCYh5nA\",\n",
    "    client_secret = \"Ngao_Oo_eW8DFPy0qzjFhi5qSoBDHg\",\n",
    "    user_agent = user_agent\n",
    ")\n",
    "\n",
    "headlines = set()\n",
    "for submission in reddit.subreddit('politics').hot(limit=None):\n",
    "    headlines.add(submission.title)\n",
    "\n",
    "for submission in reddit.subreddit('news').hot(limit=None):\n",
    "    headlines.add(submission.title)\n",
    "\n",
    "for submission in reddit.subreddit('worldnews').hot(limit=None):\n",
    "    headlines.add(submission.title)\n",
    "    \n",
    "print(len(headlines))"
   ]
  },
  {
   "cell_type": "code",
   "execution_count": 10,
   "id": "f7bac6df-9b78-4425-8259-9e9b076df661",
   "metadata": {},
   "outputs": [
    {
     "data": {
      "text/html": [
       "<div>\n",
       "<style scoped>\n",
       "    .dataframe tbody tr th:only-of-type {\n",
       "        vertical-align: middle;\n",
       "    }\n",
       "\n",
       "    .dataframe tbody tr th {\n",
       "        vertical-align: top;\n",
       "    }\n",
       "\n",
       "    .dataframe thead th {\n",
       "        text-align: right;\n",
       "    }\n",
       "</style>\n",
       "<table border=\"1\" class=\"dataframe\">\n",
       "  <thead>\n",
       "    <tr style=\"text-align: right;\">\n",
       "      <th></th>\n",
       "      <th>0</th>\n",
       "    </tr>\n",
       "  </thead>\n",
       "  <tbody>\n",
       "    <tr>\n",
       "      <th>0</th>\n",
       "      <td>Climate change: Russia burns off gas as Europe...</td>\n",
       "    </tr>\n",
       "    <tr>\n",
       "      <th>1</th>\n",
       "      <td>The Origin of Student Debt: Reagan Adviser War...</td>\n",
       "    </tr>\n",
       "    <tr>\n",
       "      <th>2</th>\n",
       "      <td>Chip shops face 'extinction' amid cost of livi...</td>\n",
       "    </tr>\n",
       "    <tr>\n",
       "      <th>3</th>\n",
       "      <td>The problem(s) with the GOP’s new ‘election in...</td>\n",
       "    </tr>\n",
       "    <tr>\n",
       "      <th>4</th>\n",
       "      <td>Tesla loses challenge to California agency sui...</td>\n",
       "    </tr>\n",
       "  </tbody>\n",
       "</table>\n",
       "</div>"
      ],
      "text/plain": [
       "                                                   0\n",
       "0  Climate change: Russia burns off gas as Europe...\n",
       "1  The Origin of Student Debt: Reagan Adviser War...\n",
       "2  Chip shops face 'extinction' amid cost of livi...\n",
       "3  The problem(s) with the GOP’s new ‘election in...\n",
       "4  Tesla loses challenge to California agency sui..."
      ]
     },
     "execution_count": 10,
     "metadata": {},
     "output_type": "execute_result"
    }
   ],
   "source": [
    "df = pd.DataFrame(headlines)\n",
    "df.head()"
   ]
  },
  {
   "cell_type": "code",
   "execution_count": 5,
   "id": "740608a5-1434-462b-8c7c-4d171d8cc613",
   "metadata": {},
   "outputs": [],
   "source": [
    "df.to_csv('headlines.csv', header = False, encoding = 'utf-8', index = False)"
   ]
  },
  {
   "cell_type": "markdown",
   "id": "528f692a",
   "metadata": {},
   "source": [
    "Perform Sentiment Analysis"
   ]
  },
  {
   "cell_type": "code",
   "execution_count": 11,
   "id": "ff3b039d-8b25-4b7c-be09-8bf1efeb8bb5",
   "metadata": {},
   "outputs": [
    {
     "name": "stdout",
     "output_type": "stream",
     "text": [
      "[{'neg': 0.0, 'neu': 0.826, 'pos': 0.174, 'compound': 0.2732, 'headline': 'Climate change: Russia burns off gas as Europe&#x27;s energy bills rocket'}, {'neg': 0.333, 'neu': 0.433, 'pos': 0.234, 'compound': -0.3182, 'headline': 'The Origin of Student Debt: Reagan Adviser Warned Free College Would Create a Dangerous “Educated Proletariat”'}, {'neg': 0.339, 'neu': 0.661, 'pos': 0.0, 'compound': -0.6249, 'headline': \"Chip shops face 'extinction' amid cost of living crisis\"}]\n"
     ]
    }
   ],
   "source": [
    "results = []\n",
    "\n",
    "for line in headlines:\n",
    "    polarity_score = sia.polarity_scores(line)   #Outputs dict\n",
    "    polarity_score['headline'] = line\n",
    "    results.append(polarity_score)\n",
    "\n",
    "print(results[0:3])"
   ]
  },
  {
   "cell_type": "code",
   "execution_count": 12,
   "id": "e39e5ee6",
   "metadata": {},
   "outputs": [
    {
     "data": {
      "text/html": [
       "<div>\n",
       "<style scoped>\n",
       "    .dataframe tbody tr th:only-of-type {\n",
       "        vertical-align: middle;\n",
       "    }\n",
       "\n",
       "    .dataframe tbody tr th {\n",
       "        vertical-align: top;\n",
       "    }\n",
       "\n",
       "    .dataframe thead th {\n",
       "        text-align: right;\n",
       "    }\n",
       "</style>\n",
       "<table border=\"1\" class=\"dataframe\">\n",
       "  <thead>\n",
       "    <tr style=\"text-align: right;\">\n",
       "      <th></th>\n",
       "      <th>neg</th>\n",
       "      <th>neu</th>\n",
       "      <th>pos</th>\n",
       "      <th>compound</th>\n",
       "      <th>headline</th>\n",
       "    </tr>\n",
       "  </thead>\n",
       "  <tbody>\n",
       "    <tr>\n",
       "      <th>0</th>\n",
       "      <td>0.000</td>\n",
       "      <td>0.826</td>\n",
       "      <td>0.174</td>\n",
       "      <td>0.2732</td>\n",
       "      <td>Climate change: Russia burns off gas as Europe...</td>\n",
       "    </tr>\n",
       "    <tr>\n",
       "      <th>1</th>\n",
       "      <td>0.333</td>\n",
       "      <td>0.433</td>\n",
       "      <td>0.234</td>\n",
       "      <td>-0.3182</td>\n",
       "      <td>The Origin of Student Debt: Reagan Adviser War...</td>\n",
       "    </tr>\n",
       "    <tr>\n",
       "      <th>2</th>\n",
       "      <td>0.339</td>\n",
       "      <td>0.661</td>\n",
       "      <td>0.000</td>\n",
       "      <td>-0.6249</td>\n",
       "      <td>Chip shops face 'extinction' amid cost of livi...</td>\n",
       "    </tr>\n",
       "    <tr>\n",
       "      <th>3</th>\n",
       "      <td>0.000</td>\n",
       "      <td>1.000</td>\n",
       "      <td>0.000</td>\n",
       "      <td>0.0000</td>\n",
       "      <td>The problem(s) with the GOP’s new ‘election in...</td>\n",
       "    </tr>\n",
       "    <tr>\n",
       "      <th>4</th>\n",
       "      <td>0.443</td>\n",
       "      <td>0.458</td>\n",
       "      <td>0.099</td>\n",
       "      <td>-0.5423</td>\n",
       "      <td>Tesla loses challenge to California agency sui...</td>\n",
       "    </tr>\n",
       "  </tbody>\n",
       "</table>\n",
       "</div>"
      ],
      "text/plain": [
       "     neg    neu    pos  compound  \\\n",
       "0  0.000  0.826  0.174    0.2732   \n",
       "1  0.333  0.433  0.234   -0.3182   \n",
       "2  0.339  0.661  0.000   -0.6249   \n",
       "3  0.000  1.000  0.000    0.0000   \n",
       "4  0.443  0.458  0.099   -0.5423   \n",
       "\n",
       "                                            headline  \n",
       "0  Climate change: Russia burns off gas as Europe...  \n",
       "1  The Origin of Student Debt: Reagan Adviser War...  \n",
       "2  Chip shops face 'extinction' amid cost of livi...  \n",
       "3  The problem(s) with the GOP’s new ‘election in...  \n",
       "4  Tesla loses challenge to California agency sui...  "
      ]
     },
     "execution_count": 12,
     "metadata": {},
     "output_type": "execute_result"
    }
   ],
   "source": [
    "df = pd.DataFrame.from_records(results)\n",
    "df.head()"
   ]
  },
  {
   "cell_type": "markdown",
   "id": "1ecf0a3e",
   "metadata": {},
   "source": [
    "Label and Create new CSV File"
   ]
  },
  {
   "cell_type": "code",
   "execution_count": 24,
   "id": "2c6441b0",
   "metadata": {},
   "outputs": [
    {
     "data": {
      "text/html": [
       "<div>\n",
       "<style scoped>\n",
       "    .dataframe tbody tr th:only-of-type {\n",
       "        vertical-align: middle;\n",
       "    }\n",
       "\n",
       "    .dataframe tbody tr th {\n",
       "        vertical-align: top;\n",
       "    }\n",
       "\n",
       "    .dataframe thead th {\n",
       "        text-align: right;\n",
       "    }\n",
       "</style>\n",
       "<table border=\"1\" class=\"dataframe\">\n",
       "  <thead>\n",
       "    <tr style=\"text-align: right;\">\n",
       "      <th></th>\n",
       "      <th>neg</th>\n",
       "      <th>neu</th>\n",
       "      <th>pos</th>\n",
       "      <th>compound</th>\n",
       "      <th>headline</th>\n",
       "      <th>label</th>\n",
       "    </tr>\n",
       "  </thead>\n",
       "  <tbody>\n",
       "    <tr>\n",
       "      <th>0</th>\n",
       "      <td>0.000</td>\n",
       "      <td>0.826</td>\n",
       "      <td>0.174</td>\n",
       "      <td>0.2732</td>\n",
       "      <td>Climate change: Russia burns off gas as Europe...</td>\n",
       "      <td>1</td>\n",
       "    </tr>\n",
       "    <tr>\n",
       "      <th>1</th>\n",
       "      <td>0.333</td>\n",
       "      <td>0.433</td>\n",
       "      <td>0.234</td>\n",
       "      <td>-0.3182</td>\n",
       "      <td>The Origin of Student Debt: Reagan Adviser War...</td>\n",
       "      <td>-1</td>\n",
       "    </tr>\n",
       "    <tr>\n",
       "      <th>2</th>\n",
       "      <td>0.339</td>\n",
       "      <td>0.661</td>\n",
       "      <td>0.000</td>\n",
       "      <td>-0.6249</td>\n",
       "      <td>Chip shops face 'extinction' amid cost of livi...</td>\n",
       "      <td>-1</td>\n",
       "    </tr>\n",
       "    <tr>\n",
       "      <th>3</th>\n",
       "      <td>0.000</td>\n",
       "      <td>1.000</td>\n",
       "      <td>0.000</td>\n",
       "      <td>0.0000</td>\n",
       "      <td>The problem(s) with the GOP’s new ‘election in...</td>\n",
       "      <td>0</td>\n",
       "    </tr>\n",
       "    <tr>\n",
       "      <th>4</th>\n",
       "      <td>0.443</td>\n",
       "      <td>0.458</td>\n",
       "      <td>0.099</td>\n",
       "      <td>-0.5423</td>\n",
       "      <td>Tesla loses challenge to California agency sui...</td>\n",
       "      <td>-1</td>\n",
       "    </tr>\n",
       "  </tbody>\n",
       "</table>\n",
       "</div>"
      ],
      "text/plain": [
       "     neg    neu    pos  compound  \\\n",
       "0  0.000  0.826  0.174    0.2732   \n",
       "1  0.333  0.433  0.234   -0.3182   \n",
       "2  0.339  0.661  0.000   -0.6249   \n",
       "3  0.000  1.000  0.000    0.0000   \n",
       "4  0.443  0.458  0.099   -0.5423   \n",
       "\n",
       "                                            headline  label  \n",
       "0  Climate change: Russia burns off gas as Europe...      1  \n",
       "1  The Origin of Student Debt: Reagan Adviser War...     -1  \n",
       "2  Chip shops face 'extinction' amid cost of livi...     -1  \n",
       "3  The problem(s) with the GOP’s new ‘election in...      0  \n",
       "4  Tesla loses challenge to California agency sui...     -1  "
      ]
     },
     "execution_count": 24,
     "metadata": {},
     "output_type": "execute_result"
    }
   ],
   "source": [
    "df['label'] = 0\n",
    "df.loc[df['compound'] > 0.2, 'label'] = 1\n",
    "df.loc[df['compound'] < 0.2, 'label'] = -1\n",
    "df.loc[df['compound'] == 0, 'label'] = 0\n",
    "df.head()"
   ]
  },
  {
   "cell_type": "code",
   "execution_count": 27,
   "id": "8e6957d0",
   "metadata": {},
   "outputs": [],
   "source": [
    "df2 = df[['label', 'headline']]\n",
    "df2.head()\n",
    "df2.to_csv('Labeled_Headlines.csv', header = False, encoding = 'utf-8', index = False)"
   ]
  }
 ],
 "metadata": {
  "kernelspec": {
   "display_name": "Python 3.9.10 64-bit",
   "language": "python",
   "name": "python3"
  },
  "language_info": {
   "codemirror_mode": {
    "name": "ipython",
    "version": 3
   },
   "file_extension": ".py",
   "mimetype": "text/x-python",
   "name": "python",
   "nbconvert_exporter": "python",
   "pygments_lexer": "ipython3",
   "version": "3.9.10"
  },
  "vscode": {
   "interpreter": {
    "hash": "b113e3f28085a06b38858b5f4545ecf2c134e881cb8dbd49b66220a930f74606"
   }
  }
 },
 "nbformat": 4,
 "nbformat_minor": 5
}
