{
 "cells": [
  {
   "cell_type": "code",
   "execution_count": 64,
   "id": "adbc775e-0bb6-487c-9753-18b2009888e8",
   "metadata": {
    "tags": []
   },
   "outputs": [],
   "source": [
    "import nltk\n",
    "from nltk.sentiment import SentimentIntensityAnalyzer as SIA\n",
    "import pandas as pd\n",
    "import praw\n",
    "import pprint\n",
    "import matplotlib.pyplot as plt"
   ]
  },
  {
   "cell_type": "code",
   "execution_count": 65,
   "id": "185305f2-fda3-4536-993e-3b8318bc046a",
   "metadata": {},
   "outputs": [
    {
     "name": "stderr",
     "output_type": "stream",
     "text": [
      "[nltk_data] Downloading package vader_lexicon to\n",
      "[nltk_data]     C:\\Users\\Adria\\AppData\\Roaming\\nltk_data...\n",
      "[nltk_data]   Package vader_lexicon is already up-to-date!\n"
     ]
    },
    {
     "data": {
      "text/plain": [
       "True"
      ]
     },
     "execution_count": 65,
     "metadata": {},
     "output_type": "execute_result"
    }
   ],
   "source": [
    "sia = SIA()\n",
    "nltk.download('vader_lexicon')"
   ]
  },
  {
   "cell_type": "markdown",
   "id": "acb31f07",
   "metadata": {},
   "source": [
    "Get Headlines From Reddit"
   ]
  },
  {
   "cell_type": "code",
   "execution_count": 66,
   "id": "bb289c9e-1c8b-46be-8e1f-3a05a7faaa3b",
   "metadata": {
    "tags": []
   },
   "outputs": [
    {
     "name": "stdout",
     "output_type": "stream",
     "text": [
      "1495\n"
     ]
    }
   ],
   "source": [
    "user_agent = \"Scraper\"\n",
    "reddit = praw.Reddit(\n",
    "    client_id = \"aKfBu6Agrx3kW_ElCYh5nA\",\n",
    "    client_secret = \"Ngao_Oo_eW8DFPy0qzjFhi5qSoBDHg\",\n",
    "    user_agent = user_agent\n",
    ")\n",
    "\n",
    "headlines = set()\n",
    "for submission in reddit.subreddit('politics').hot(limit=None):\n",
    "    headlines.add(submission.title)\n",
    "\n",
    "for submission in reddit.subreddit('news').hot(limit=None):\n",
    "    headlines.add(submission.title)\n",
    "\n",
    "for submission in reddit.subreddit('worldnews').hot(limit=None):\n",
    "    headlines.add(submission.title)\n",
    "    \n",
    "print(len(headlines))"
   ]
  },
  {
   "cell_type": "code",
   "execution_count": 67,
   "id": "f7bac6df-9b78-4425-8259-9e9b076df661",
   "metadata": {},
   "outputs": [
    {
     "data": {
      "text/html": [
       "<div>\n",
       "<style scoped>\n",
       "    .dataframe tbody tr th:only-of-type {\n",
       "        vertical-align: middle;\n",
       "    }\n",
       "\n",
       "    .dataframe tbody tr th {\n",
       "        vertical-align: top;\n",
       "    }\n",
       "\n",
       "    .dataframe thead th {\n",
       "        text-align: right;\n",
       "    }\n",
       "</style>\n",
       "<table border=\"1\" class=\"dataframe\">\n",
       "  <thead>\n",
       "    <tr style=\"text-align: right;\">\n",
       "      <th></th>\n",
       "      <th>0</th>\n",
       "    </tr>\n",
       "  </thead>\n",
       "  <tbody>\n",
       "    <tr>\n",
       "      <th>0</th>\n",
       "      <td>Finland will be self-sufficient in electricity within a ...</td>\n",
       "    </tr>\n",
       "    <tr>\n",
       "      <th>1</th>\n",
       "      <td>All The People Who Trump Tried To Make The Feds Investig...</td>\n",
       "    </tr>\n",
       "    <tr>\n",
       "      <th>2</th>\n",
       "      <td>Stand Your Ground Laws Are Proliferating. And More Peopl...</td>\n",
       "    </tr>\n",
       "    <tr>\n",
       "      <th>3</th>\n",
       "      <td>Premier League, WSL and EFL weekend games off but other ...</td>\n",
       "    </tr>\n",
       "    <tr>\n",
       "      <th>4</th>\n",
       "      <td>Researchers discover how air pollution leads to cancer b...</td>\n",
       "    </tr>\n",
       "  </tbody>\n",
       "</table>\n",
       "</div>"
      ],
      "text/plain": [
       "                                                             0\n",
       "0  Finland will be self-sufficient in electricity within a ...\n",
       "1  All The People Who Trump Tried To Make The Feds Investig...\n",
       "2  Stand Your Ground Laws Are Proliferating. And More Peopl...\n",
       "3  Premier League, WSL and EFL weekend games off but other ...\n",
       "4  Researchers discover how air pollution leads to cancer b..."
      ]
     },
     "execution_count": 67,
     "metadata": {},
     "output_type": "execute_result"
    }
   ],
   "source": [
    "df = pd.DataFrame(headlines)\n",
    "df.head()"
   ]
  },
  {
   "cell_type": "code",
   "execution_count": 68,
   "id": "740608a5-1434-462b-8c7c-4d171d8cc613",
   "metadata": {},
   "outputs": [],
   "source": [
    "df.to_csv('headlines.csv', header = False, encoding = 'utf-8', index = False)"
   ]
  },
  {
   "cell_type": "markdown",
   "id": "528f692a",
   "metadata": {},
   "source": [
    "Perform Sentiment Analysis"
   ]
  },
  {
   "cell_type": "code",
   "execution_count": 69,
   "id": "ff3b039d-8b25-4b7c-be09-8bf1efeb8bb5",
   "metadata": {},
   "outputs": [
    {
     "name": "stdout",
     "output_type": "stream",
     "text": [
      "[{'neg': 0.0, 'neu': 1.0, 'pos': 0.0, 'compound': 0.0, 'headline': 'Finland will be self-sufficient in electricity within a year or two, says minister'}, {'neg': 0.0, 'neu': 1.0, 'pos': 0.0, 'compound': 0.0, 'headline': 'All The People Who Trump Tried To Make The Feds Investigate For Being Mean To Him'}, {'neg': 0.0, 'neu': 1.0, 'pos': 0.0, 'compound': 0.0, 'headline': 'Stand Your Ground Laws Are Proliferating. And More People Are Dying.'}]\n"
     ]
    }
   ],
   "source": [
    "results = []\n",
    "\n",
    "for line in headlines:\n",
    "    polarity_score = sia.polarity_scores(line)   #Outputs dict\n",
    "    polarity_score['headline'] = line\n",
    "    results.append(polarity_score)\n",
    "\n",
    "print(results[0:3])"
   ]
  },
  {
   "cell_type": "code",
   "execution_count": 70,
   "id": "e39e5ee6",
   "metadata": {},
   "outputs": [
    {
     "data": {
      "text/html": [
       "<div>\n",
       "<style scoped>\n",
       "    .dataframe tbody tr th:only-of-type {\n",
       "        vertical-align: middle;\n",
       "    }\n",
       "\n",
       "    .dataframe tbody tr th {\n",
       "        vertical-align: top;\n",
       "    }\n",
       "\n",
       "    .dataframe thead th {\n",
       "        text-align: right;\n",
       "    }\n",
       "</style>\n",
       "<table border=\"1\" class=\"dataframe\">\n",
       "  <thead>\n",
       "    <tr style=\"text-align: right;\">\n",
       "      <th></th>\n",
       "      <th>neg</th>\n",
       "      <th>neu</th>\n",
       "      <th>pos</th>\n",
       "      <th>compound</th>\n",
       "      <th>headline</th>\n",
       "    </tr>\n",
       "  </thead>\n",
       "  <tbody>\n",
       "    <tr>\n",
       "      <th>0</th>\n",
       "      <td>0.00</td>\n",
       "      <td>1.00</td>\n",
       "      <td>0.0</td>\n",
       "      <td>0.0000</td>\n",
       "      <td>Finland will be self-sufficient in electricity within a ...</td>\n",
       "    </tr>\n",
       "    <tr>\n",
       "      <th>1</th>\n",
       "      <td>0.00</td>\n",
       "      <td>1.00</td>\n",
       "      <td>0.0</td>\n",
       "      <td>0.0000</td>\n",
       "      <td>All The People Who Trump Tried To Make The Feds Investig...</td>\n",
       "    </tr>\n",
       "    <tr>\n",
       "      <th>2</th>\n",
       "      <td>0.00</td>\n",
       "      <td>1.00</td>\n",
       "      <td>0.0</td>\n",
       "      <td>0.0000</td>\n",
       "      <td>Stand Your Ground Laws Are Proliferating. And More Peopl...</td>\n",
       "    </tr>\n",
       "    <tr>\n",
       "      <th>3</th>\n",
       "      <td>0.00</td>\n",
       "      <td>1.00</td>\n",
       "      <td>0.0</td>\n",
       "      <td>0.0000</td>\n",
       "      <td>Premier League, WSL and EFL weekend games off but other ...</td>\n",
       "    </tr>\n",
       "    <tr>\n",
       "      <th>4</th>\n",
       "      <td>0.45</td>\n",
       "      <td>0.55</td>\n",
       "      <td>0.0</td>\n",
       "      <td>-0.9313</td>\n",
       "      <td>Researchers discover how air pollution leads to cancer b...</td>\n",
       "    </tr>\n",
       "  </tbody>\n",
       "</table>\n",
       "</div>"
      ],
      "text/plain": [
       "    neg   neu  pos  compound  \\\n",
       "0  0.00  1.00  0.0    0.0000   \n",
       "1  0.00  1.00  0.0    0.0000   \n",
       "2  0.00  1.00  0.0    0.0000   \n",
       "3  0.00  1.00  0.0    0.0000   \n",
       "4  0.45  0.55  0.0   -0.9313   \n",
       "\n",
       "                                                      headline  \n",
       "0  Finland will be self-sufficient in electricity within a ...  \n",
       "1  All The People Who Trump Tried To Make The Feds Investig...  \n",
       "2  Stand Your Ground Laws Are Proliferating. And More Peopl...  \n",
       "3  Premier League, WSL and EFL weekend games off but other ...  \n",
       "4  Researchers discover how air pollution leads to cancer b...  "
      ]
     },
     "execution_count": 70,
     "metadata": {},
     "output_type": "execute_result"
    }
   ],
   "source": [
    "df = pd.DataFrame.from_records(results)\n",
    "df.head()"
   ]
  },
  {
   "cell_type": "markdown",
   "id": "1ecf0a3e",
   "metadata": {},
   "source": [
    "Label and Create new CSV File"
   ]
  },
  {
   "cell_type": "code",
   "execution_count": 71,
   "id": "2c6441b0",
   "metadata": {},
   "outputs": [
    {
     "data": {
      "text/html": [
       "<div>\n",
       "<style scoped>\n",
       "    .dataframe tbody tr th:only-of-type {\n",
       "        vertical-align: middle;\n",
       "    }\n",
       "\n",
       "    .dataframe tbody tr th {\n",
       "        vertical-align: top;\n",
       "    }\n",
       "\n",
       "    .dataframe thead th {\n",
       "        text-align: right;\n",
       "    }\n",
       "</style>\n",
       "<table border=\"1\" class=\"dataframe\">\n",
       "  <thead>\n",
       "    <tr style=\"text-align: right;\">\n",
       "      <th></th>\n",
       "      <th>neg</th>\n",
       "      <th>neu</th>\n",
       "      <th>pos</th>\n",
       "      <th>compound</th>\n",
       "      <th>headline</th>\n",
       "      <th>label</th>\n",
       "    </tr>\n",
       "  </thead>\n",
       "  <tbody>\n",
       "    <tr>\n",
       "      <th>0</th>\n",
       "      <td>0.00</td>\n",
       "      <td>1.00</td>\n",
       "      <td>0.0</td>\n",
       "      <td>0.0000</td>\n",
       "      <td>Finland will be self-sufficient in electricity within a ...</td>\n",
       "      <td>0</td>\n",
       "    </tr>\n",
       "    <tr>\n",
       "      <th>1</th>\n",
       "      <td>0.00</td>\n",
       "      <td>1.00</td>\n",
       "      <td>0.0</td>\n",
       "      <td>0.0000</td>\n",
       "      <td>All The People Who Trump Tried To Make The Feds Investig...</td>\n",
       "      <td>0</td>\n",
       "    </tr>\n",
       "    <tr>\n",
       "      <th>2</th>\n",
       "      <td>0.00</td>\n",
       "      <td>1.00</td>\n",
       "      <td>0.0</td>\n",
       "      <td>0.0000</td>\n",
       "      <td>Stand Your Ground Laws Are Proliferating. And More Peopl...</td>\n",
       "      <td>0</td>\n",
       "    </tr>\n",
       "    <tr>\n",
       "      <th>3</th>\n",
       "      <td>0.00</td>\n",
       "      <td>1.00</td>\n",
       "      <td>0.0</td>\n",
       "      <td>0.0000</td>\n",
       "      <td>Premier League, WSL and EFL weekend games off but other ...</td>\n",
       "      <td>0</td>\n",
       "    </tr>\n",
       "    <tr>\n",
       "      <th>4</th>\n",
       "      <td>0.45</td>\n",
       "      <td>0.55</td>\n",
       "      <td>0.0</td>\n",
       "      <td>-0.9313</td>\n",
       "      <td>Researchers discover how air pollution leads to cancer b...</td>\n",
       "      <td>-1</td>\n",
       "    </tr>\n",
       "  </tbody>\n",
       "</table>\n",
       "</div>"
      ],
      "text/plain": [
       "    neg   neu  pos  compound  \\\n",
       "0  0.00  1.00  0.0    0.0000   \n",
       "1  0.00  1.00  0.0    0.0000   \n",
       "2  0.00  1.00  0.0    0.0000   \n",
       "3  0.00  1.00  0.0    0.0000   \n",
       "4  0.45  0.55  0.0   -0.9313   \n",
       "\n",
       "                                                      headline  label  \n",
       "0  Finland will be self-sufficient in electricity within a ...      0  \n",
       "1  All The People Who Trump Tried To Make The Feds Investig...      0  \n",
       "2  Stand Your Ground Laws Are Proliferating. And More Peopl...      0  \n",
       "3  Premier League, WSL and EFL weekend games off but other ...      0  \n",
       "4  Researchers discover how air pollution leads to cancer b...     -1  "
      ]
     },
     "execution_count": 71,
     "metadata": {},
     "output_type": "execute_result"
    }
   ],
   "source": [
    "df['label'] = 0\n",
    "df.loc[df['compound'] > 0.2, 'label'] = 1\n",
    "df.loc[df['compound'] < 0.2, 'label'] = -1\n",
    "df.loc[df['compound'] == 0, 'label'] = 0\n",
    "df.head()"
   ]
  },
  {
   "cell_type": "code",
   "execution_count": 72,
   "id": "8e6957d0",
   "metadata": {},
   "outputs": [],
   "source": [
    "df2 = df[['label', 'headline']]\n",
    "df2.head()\n",
    "df2.to_csv('Labeled_Headlines.csv', header = False, encoding = 'utf-8', index = False)"
   ]
  },
  {
   "cell_type": "markdown",
   "id": "735f7757",
   "metadata": {},
   "source": [
    "Practical Examples"
   ]
  },
  {
   "cell_type": "code",
   "execution_count": 73,
   "id": "2cd4e0f1",
   "metadata": {},
   "outputs": [
    {
     "data": {
      "text/plain": [
       "-1    49.230769\n",
       " 0    31.438127\n",
       " 1    19.331104\n",
       "Name: label, dtype: float64"
      ]
     },
     "execution_count": 73,
     "metadata": {},
     "output_type": "execute_result"
    }
   ],
   "source": [
    "# Check how many headlines are positive, negative and neutral\n",
    "df2['label'].value_counts(-1)*100"
   ]
  },
  {
   "cell_type": "code",
   "execution_count": 74,
   "id": "583b4bbf",
   "metadata": {},
   "outputs": [
    {
     "name": "stdout",
     "output_type": "stream",
     "text": [
      "Good Headlines \n",
      "\n",
      "[   'Guns bought through credit cards in the US will now be trackable',\n",
      "    'Russia’s Putin to meet Indian PM Modi to boost trade ties',\n",
      "    \"The US announced sanctions on Iran's Ministry of Intelligence and \"\n",
      "    'Security and its minister Esmail Khatib, after Tehran was identified as '\n",
      "    'being behind an unprecedented cyberattack against NATO ally Albania',\n",
      "    'Why A State Like Michigan Might Actually Be A Blue State',\n",
      "    \"Russia plays up China's support as it retreats in Ukraine\"]\n",
      "\n",
      "Bad Headlines \n",
      "\n",
      "[   'Researchers discover how air pollution leads to cancer by activating '\n",
      "    'damaged cells - drugs to stop cancer forming may now be possible',\n",
      "    'Harris says internal threats to democracy fuel questions of U.S. values',\n",
      "    'Republicans Introduce Bill To Ban Abortion Nationwide After 15 Weeks',\n",
      "    'Bodies of more civilians murdered by the Russians found in liberated '\n",
      "    'Kharkiv oblast village',\n",
      "    \"Graham's abortion ban stuns Senate GOP | His past, less conservative \"\n",
      "    'pitch won him some Democratic votes. But most Republicans stiff-armed him '\n",
      "    \"Tuesday as they face abortion-rights backers ascendant after Roe's \"\n",
      "    'reversal.']\n"
     ]
    }
   ],
   "source": [
    "# Print the bad and good headlines\n",
    "\n",
    "pp = pprint.PrettyPrinter(indent=4)\n",
    "print('Good Headlines \\n')\n",
    "pp.pprint(list(df2.query('label == 1')['headline'])[:5])\n",
    "\n",
    "print('\\nBad Headlines \\n')\n",
    "pp.pprint(list(df2.query('label == -1')['headline'])[:5])"
   ]
  },
  {
   "cell_type": "code",
   "execution_count": 75,
   "id": "45b855ac",
   "metadata": {},
   "outputs": [
    {
     "name": "stdout",
     "output_type": "stream",
     "text": [
      "[736, 470, 289]\n"
     ]
    },
    {
     "data": {
      "image/png": "[encoded data removed]",
      "text/plain": [
       "<Figure size 3600x576 with 1 Axes>"
      ]
     },
     "metadata": {
      "needs_background": "light"
     },
     "output_type": "display_data"
    }
   ],
   "source": [
    "# Create a Bar Chart\n",
    "\n",
    "fig, ax = plt.subplots(figsize = (50, 8))\n",
    "categories = ['Negative', 'Neutral', 'Positive']\n",
    "values = [0]*3\n",
    "for label in df2['label']:\n",
    "    if label == -1:\n",
    "        values[0] += 1\n",
    "    if label == 0:\n",
    "        values[1] += 1\n",
    "    if label == 1:\n",
    "        values[2] += 1\n",
    "\n",
    "print(values)\n",
    "plt.title('Headline Labels')\n",
    "plt.subplot(131)\n",
    "plt.bar(categories, values)\n",
    "\n",
    "plt.show()"
   ]
  }
 ],
 "metadata": {
  "kernelspec": {
   "display_name": "Python 3.9.10 64-bit",
   "language": "python",
   "name": "python3"
  },
  "language_info": {
   "codemirror_mode": {
    "name": "ipython",
    "version": 3
   },
   "file_extension": ".py",
   "mimetype": "text/x-python",
   "name": "python",
   "nbconvert_exporter": "python",
   "pygments_lexer": "ipython3",
   "version": "3.9.10"
  },
  "vscode": {
   "interpreter": {
    "hash": "b113e3f28085a06b38858b5f4545ecf2c134e881cb8dbd49b66220a930f74606"
   }
  }
 },
 "nbformat": 4,
 "nbformat_minor": 5
}
